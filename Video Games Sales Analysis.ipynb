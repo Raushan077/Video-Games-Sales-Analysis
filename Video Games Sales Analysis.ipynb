{
 "cells": [
  {
   "cell_type": "markdown",
   "metadata": {
    "id": "kZX0UKRjlsaT"
   },
   "source": [
    "#Project: Video Game Sales Analysis - Grouping & Aggregation\n",
    "\n",
    "After Completition You have to mail Project on gagan@samatrix.io.\n",
    "#Deadline is 20th of July."
   ]
  },
  {
   "cell_type": "markdown",
   "metadata": {
    "id": "ovFh8SYI6Ccf"
   },
   "source": [
    "### Context\n",
    "\n",
    "Video games creation is essentially a software development process. Generally, publishers such as EA Sports, Atari, Rockstar Games etc. fund the game development process. However, for publishers, it is very important to estimate the cost of development of a video game. Most of the commercial games do not generate adequate profit.\n",
    "\n",
    "A video game is an interactive visual story. A new game must provide novelty and must be a product of innovation. Nevertheless, once the companies become financially stable by making sufficient profits, they may expand to develop newer games or sequels to the initial ones such as FIFA, Call of Duty, Age of Empires etc.\n",
    "\n",
    "An average development budget for a multiplatform (PC, PS, Xbox etc.) game is US \\$18 to 28 million, with high-profile games often exceeding US $40 million.\n",
    "\n"
   ]
  },
  {
   "cell_type": "markdown",
   "metadata": {
    "id": "r4MxDAGZaRi4"
   },
   "source": [
    "---"
   ]
  },
  {
   "cell_type": "markdown",
   "metadata": {
    "id": "LrQxEISzaSMt"
   },
   "source": [
    "### Problem Statement\n",
    "\n",
    "Imagine that you work for one of the world's biggest tech giants as a data analyst. The company intends to venture into the video game development business by either creating their own video games and gaming platforms or by funding a group of individual game developers.\n",
    "\n",
    "As a part of market research, your CEO wants to come up with a business strategy to enable your company to enter into the video game development business. However, in the best interest of companies financial investment in this project, it is important to know whether there are enough buyers, in the long run, do the number of buyers increase so that they stay invested in this project.\n",
    "\n",
    "Your CEO would like to know what kind of games are most popular in terms of the most units sold, what are the most commonly used gaming platforms such as PS4, Xbox, PC etc."
   ]
  },
  {
   "cell_type": "markdown",
   "metadata": {
    "id": "0k1KpbT9aQww"
   },
   "source": [
    "---"
   ]
  },
  {
   "cell_type": "markdown",
   "metadata": {
    "id": "Fggv8AAkt8zR"
   },
   "source": [
    "---"
   ]
  },
  {
   "cell_type": "markdown",
   "metadata": {
    "id": "4EvXFu3C4bH4"
   },
   "source": [
    "### Dataset Description\n",
    "\n",
    "You are provided with a video games sales dataset. It consists of the following features:\n",
    "\n",
    "1. `Rank` - Rank based on the number of units sold of a game. The most sold game is ranked 1.\n",
    "\n",
    "2. `Name` - The name of a video game.\n",
    "\n",
    "3. `Platform` - The platform (PC, PS4, XBox etc.) for which a game is released.\n",
    "\n",
    "4. `Year` - The release year of a video game.\n",
    "\n",
    "5. `Genre` - The genre of a video game.\n",
    "\n",
    "6. `Publisher` - The publisher of a video game.\n",
    "\n",
    "7. `NA_Sales` - Approximately, the total number of units sold (in million) of a video game in North America.\n",
    "\n",
    "8. `EU_Sales` - Approximately, the total number of units sold (in million) of a video game in Europe.\n",
    "\n",
    "9. `JP_Sales` - Approximately, the total number of units sold (in million) of a video game in Japan.\n",
    "\n",
    "10. `Other_Sales` - Approximately, the total number of units sold (in million) of a video game in the rest of the world.\n",
    "\n",
    "11. `Global_Sales` - Approximately, the total number of units sold (in million) of a video game all over the world."
   ]
  },
  {
   "cell_type": "markdown",
   "metadata": {
    "id": "Ql315hOw68cq"
   },
   "source": [
    "---"
   ]
  },
  {
   "cell_type": "markdown",
   "metadata": {
    "id": "xC6ILjfc6-UM"
   },
   "source": [
    "### Things To Do\n",
    "\n",
    "- The `Year` and `Publisher` columns contain few missing values. Treat them accordingly.\n",
    "\n",
    "- Convert the values contained in the `Year` column into integer values.\n",
    "\n",
    "- Find out:\n",
    "\n",
    "  1. The trend of growth in the number of total units sold across the given regions and the world. Also create year-wise line plots for the total number of units sold across different regions and the world.\n",
    "  \n",
    "  2. Top 10 most sold genres of video games but at least 100 million units sold globally. Also create genre-wise line plots for the total number of units sold across different regions and the world.\n",
    "\n",
    "  3. Top 10 best publishers of video games but at least 100 million units sold globally.\n",
    "  \n",
    "  4. Top 10 most commonly used gaming platform but at least 100 million units sold globally."
   ]
  },
  {
   "cell_type": "markdown",
   "metadata": {
    "id": "Ca9sX56O69PL"
   },
   "source": [
    "---"
   ]
  },
  {
   "cell_type": "markdown",
   "metadata": {
    "id": "l9oIFA80B70Z"
   },
   "source": [
    "#### 1. Import Modules & Load Data"
   ]
  },
  {
   "cell_type": "code",
   "execution_count": 6,
   "metadata": {
    "id": "BfFy6Rh_w2e4"
   },
   "outputs": [],
   "source": [
    "import numpy as np\n",
    "import pandas as pd\n",
    "import seaborn as sns\n",
    "import matplotlib as mlt"
   ]
  },
  {
   "cell_type": "code",
   "execution_count": 7,
   "metadata": {},
   "outputs": [],
   "source": [
    "data=pd.read_csv(\"C:\\\\Users\\\\SSC\\\\Downloads\\\\Data for Project 1.csv\")"
   ]
  },
  {
   "cell_type": "code",
   "execution_count": 13,
   "metadata": {},
   "outputs": [],
   "source": [
    "prakash=data"
   ]
  },
  {
   "cell_type": "markdown",
   "metadata": {
    "id": "8vpUDUk9supr"
   },
   "source": [
    "Get the counts of Non-Null values and the datatype of each column."
   ]
  },
  {
   "cell_type": "code",
   "execution_count": 14,
   "metadata": {
    "id": "AfrNCnXMxAZW"
   },
   "outputs": [
    {
     "name": "stdout",
     "output_type": "stream",
     "text": [
      "<class 'pandas.core.frame.DataFrame'>\n",
      "RangeIndex: 16598 entries, 0 to 16597\n",
      "Data columns (total 11 columns):\n",
      " #   Column        Non-Null Count  Dtype  \n",
      "---  ------        --------------  -----  \n",
      " 0   Rank          16598 non-null  int64  \n",
      " 1   Name          16598 non-null  object \n",
      " 2   Platform      16598 non-null  object \n",
      " 3   Year          16327 non-null  float64\n",
      " 4   Genre         16598 non-null  object \n",
      " 5   Publisher     16540 non-null  object \n",
      " 6   NA_Sales      16598 non-null  float64\n",
      " 7   EU_Sales      16598 non-null  float64\n",
      " 8   JP_Sales      16598 non-null  float64\n",
      " 9   Other_Sales   16598 non-null  float64\n",
      " 10  Global_Sales  16598 non-null  float64\n",
      "dtypes: float64(6), int64(1), object(4)\n",
      "memory usage: 1.4+ MB\n"
     ]
    }
   ],
   "source": [
    "prakash.info()"
   ]
  },
  {
   "cell_type": "markdown",
   "metadata": {
    "id": "7KWq2P6cCZgh"
   },
   "source": [
    "---"
   ]
  },
  {
   "cell_type": "markdown",
   "metadata": {
    "id": "maNyCLMdsTgS"
   },
   "source": [
    "#### 2. Treat Null Values\n",
    "\n",
    "In most of the cases, we do not get complete datasets. They either have some values missing from the rows and columns or they do not have standardised values.\n",
    "\n",
    "For example: If there is a date column in a dataset, then there is a huge chance that some of the dates are entered in the `DD-MM-YYYY` format, some in the `MM-DD-YYYY` format and so on.\n",
    "\n",
    "So, before going ahead with the analysis, it is a good idea to check whether the dataset has any missing values."
   ]
  },
  {
   "cell_type": "markdown",
   "metadata": {
    "id": "W3eODB7As9Bp"
   },
   "source": [
    "**Q:** Which of the columns are having null values?\n",
    "\n",
    "**A:**"
   ]
  },
  {
   "cell_type": "code",
   "execution_count": 15,
   "metadata": {
    "id": "SwcvisQwxDlX",
    "scrolled": true
   },
   "outputs": [
    {
     "data": {
      "text/plain": [
       "Rank              0\n",
       "Name              0\n",
       "Platform          0\n",
       "Year            271\n",
       "Genre             0\n",
       "Publisher        58\n",
       "NA_Sales          0\n",
       "EU_Sales          0\n",
       "JP_Sales          0\n",
       "Other_Sales       0\n",
       "Global_Sales      0\n",
       "dtype: int64"
      ]
     },
     "execution_count": 15,
     "metadata": {},
     "output_type": "execute_result"
    }
   ],
   "source": [
    "prakash.isnull().sum()"
   ]
  },
  {
   "cell_type": "code",
   "execution_count": null,
   "metadata": {
    "id": "6emQ1pvq1qiX"
   },
   "outputs": [],
   "source": [
    "# Remove the rows/columns containing the null values ."
   ]
  },
  {
   "cell_type": "code",
   "execution_count": 18,
   "metadata": {},
   "outputs": [
    {
     "ename": "AttributeError",
     "evalue": "'DataFrame' object has no attribute 'delete'",
     "output_type": "error",
     "traceback": [
      "\u001b[1;31m---------------------------------------------------------------------------\u001b[0m",
      "\u001b[1;31mAttributeError\u001b[0m                            Traceback (most recent call last)",
      "Cell \u001b[1;32mIn[18], line 1\u001b[0m\n\u001b[1;32m----> 1\u001b[0m \u001b[43mprakash\u001b[49m\u001b[38;5;241;43m.\u001b[39;49m\u001b[43misnull\u001b[49m\u001b[43m(\u001b[49m\u001b[43m)\u001b[49m\u001b[38;5;241;43m.\u001b[39;49m\u001b[43mdelete\u001b[49m()\n",
      "File \u001b[1;32m~\\anaconda3\\lib\\site-packages\\pandas\\core\\generic.py:5902\u001b[0m, in \u001b[0;36mNDFrame.__getattr__\u001b[1;34m(self, name)\u001b[0m\n\u001b[0;32m   5895\u001b[0m \u001b[38;5;28;01mif\u001b[39;00m (\n\u001b[0;32m   5896\u001b[0m     name \u001b[38;5;129;01mnot\u001b[39;00m \u001b[38;5;129;01min\u001b[39;00m \u001b[38;5;28mself\u001b[39m\u001b[38;5;241m.\u001b[39m_internal_names_set\n\u001b[0;32m   5897\u001b[0m     \u001b[38;5;129;01mand\u001b[39;00m name \u001b[38;5;129;01mnot\u001b[39;00m \u001b[38;5;129;01min\u001b[39;00m \u001b[38;5;28mself\u001b[39m\u001b[38;5;241m.\u001b[39m_metadata\n\u001b[0;32m   5898\u001b[0m     \u001b[38;5;129;01mand\u001b[39;00m name \u001b[38;5;129;01mnot\u001b[39;00m \u001b[38;5;129;01min\u001b[39;00m \u001b[38;5;28mself\u001b[39m\u001b[38;5;241m.\u001b[39m_accessors\n\u001b[0;32m   5899\u001b[0m     \u001b[38;5;129;01mand\u001b[39;00m \u001b[38;5;28mself\u001b[39m\u001b[38;5;241m.\u001b[39m_info_axis\u001b[38;5;241m.\u001b[39m_can_hold_identifiers_and_holds_name(name)\n\u001b[0;32m   5900\u001b[0m ):\n\u001b[0;32m   5901\u001b[0m     \u001b[38;5;28;01mreturn\u001b[39;00m \u001b[38;5;28mself\u001b[39m[name]\n\u001b[1;32m-> 5902\u001b[0m \u001b[38;5;28;01mreturn\u001b[39;00m \u001b[38;5;28;43mobject\u001b[39;49m\u001b[38;5;241;43m.\u001b[39;49m\u001b[38;5;21;43m__getattribute__\u001b[39;49m\u001b[43m(\u001b[49m\u001b[38;5;28;43mself\u001b[39;49m\u001b[43m,\u001b[49m\u001b[43m \u001b[49m\u001b[43mname\u001b[49m\u001b[43m)\u001b[49m\n",
      "\u001b[1;31mAttributeError\u001b[0m: 'DataFrame' object has no attribute 'delete'"
     ]
    }
   ],
   "source": [
    "prakash.isnull().delete()"
   ]
  },
  {
   "cell_type": "code",
   "execution_count": null,
   "metadata": {
    "id": "_8_qlOFN3kBX"
   },
   "outputs": [],
   "source": [
    "# Convert the data-type of the year values into integer values."
   ]
  },
  {
   "cell_type": "markdown",
   "metadata": {
    "id": "I39H7SLOC2LJ"
   },
   "source": [
    "---"
   ]
  },
  {
   "cell_type": "markdown",
   "metadata": {
    "id": "vUHN05k0C4Mh"
   },
   "source": [
    "#### 3. Yearly Total Units Sold\n",
    "\n",
    "Here you need to get the year wise sales of video games from the following columns:\n",
    "\n",
    " - `NA_Sales`\n",
    " -`EU_Sales`\n",
    " -`JP_Sales`\n",
    " -`Other_sales`\n",
    " -`Global_Sales`\n",
    "\n",
    "\n"
   ]
  },
  {
   "cell_type": "code",
   "execution_count": null,
   "metadata": {
    "id": "ZP0Px4gx38UT"
   },
   "outputs": [],
   "source": [
    "# Find out the total number of units sold yearly across different regions and the world.\n",
    " # store the number of units sold yearly in a variable (let's say 'group_year').\n",
    "\n",
    " # Get the total units sold from last 5 columns."
   ]
  },
  {
   "cell_type": "code",
   "execution_count": null,
   "metadata": {
    "id": "sUsi9SjZch-5"
   },
   "outputs": [],
   "source": [
    "# Create the line plots for the total number of units sold yearly across different regions and the world."
   ]
  },
  {
   "cell_type": "markdown",
   "metadata": {
    "id": "9ir2duqwgu20"
   },
   "source": [
    "**Q:** In which year, the most number of games were sold globally and how many?\n",
    "\n",
    "**A:**"
   ]
  },
  {
   "cell_type": "code",
   "execution_count": null,
   "metadata": {
    "id": "XKEDFMMpg256"
   },
   "outputs": [],
   "source": [
    "# In which year, the most number of games were sold global)]"
   ]
  },
  {
   "cell_type": "markdown",
   "metadata": {
    "id": "4pU8liclgohu"
   },
   "source": [
    "---"
   ]
  },
  {
   "cell_type": "markdown",
   "metadata": {
    "id": "SzlEER7sDdEg"
   },
   "source": [
    "#### 4. Genre-wise Total Units Sold\n",
    "\n",
    "We perform the following tasks to get an idea of which type of video game is most popular globally.\n",
    "\n",
    "The video games are classified into following Genre:\n",
    "\n",
    " - Action\n",
    "\n",
    " - Adventure\n",
    "\n",
    " - Fighting\n",
    "\n",
    " - Misc\n",
    "\n",
    " - Platform\n",
    "\n",
    " - Puzzle\n",
    "\n",
    " - Racing\n",
    "\n",
    " - Role-Playing\n",
    "\n",
    " - Shooter\n",
    "\n",
    " - Simulation\n",
    "\n",
    "You need to group the Dataframe by `Genre`."
   ]
  },
  {
   "cell_type": "code",
   "execution_count": null,
   "metadata": {
    "id": "eeflb6xLUlmK"
   },
   "outputs": [],
   "source": [
    "# Find out the genre-wise total number of units sold across different regions and the world."
   ]
  },
  {
   "cell_type": "code",
   "execution_count": null,
   "metadata": {
    "id": "vzHWayJ4lol9"
   },
   "outputs": [],
   "source": [
    "# Create line plots for genre-wise total number of units sold across different regions and the world"
   ]
  },
  {
   "cell_type": "markdown",
   "metadata": {
    "id": "lWspTB6RdPvq"
   },
   "source": [
    "**Q:** What genre of video game is most popular in Japan in terms of the total number of units sold? Also, provide the total number of units sold in Japan for that genre.\n",
    "\n",
    "**A:**"
   ]
  },
  {
   "cell_type": "code",
   "execution_count": null,
   "metadata": {
    "id": "Hj8Po3M7kBFM"
   },
   "outputs": [],
   "source": [
    "# What genre of video game is most popular in Japan in terms of the total number of units sold?"
   ]
  },
  {
   "cell_type": "code",
   "execution_count": null,
   "metadata": {
    "id": "wW_9gVmTlt0n"
   },
   "outputs": [],
   "source": [
    "# Genre-wise total number of units sold across different regions and the world in descending order.\n",
    " # Get the total units sold from last 5 columns.\n",
    "# Sort the values in descending order"
   ]
  },
  {
   "cell_type": "markdown",
   "metadata": {
    "id": "fOUOheHxvE6v"
   },
   "source": [
    "In the above code,\n",
    "\n",
    "- We have passed the `Global_Sales` column inside the `by` attribute of the `sort_values()` function to sort the Genre-wise total number of units sold across the world in ascending order.\n",
    "\n",
    "- To sort values in descending order, set the `ascending` attribute of the `sort_values()` function to `False`.  "
   ]
  },
  {
   "cell_type": "markdown",
   "metadata": {
    "id": "JmCjBlMa4TMW"
   },
   "source": [
    "**Q:** Which genre of the video games sells the most globally and how much?\n",
    "\n",
    "**A:**"
   ]
  },
  {
   "cell_type": "markdown",
   "metadata": {
    "id": "l9_sr3CTkEhM"
   },
   "source": [
    "---"
   ]
  },
  {
   "cell_type": "markdown",
   "metadata": {
    "id": "e1S6OHNCEaOk"
   },
   "source": [
    "#### 5. Publisher-wise Total Units Sold\n",
    "\n",
    "We perform the following task to get an idea of which publisher of video game has the most number of sales.\n",
    "\n",
    "We have the following popular video game Publishers:\n",
    "\n",
    " - Nintendo\n",
    "\n",
    " - Electronic Arts\n",
    "\n",
    " - Activision\n",
    "\n",
    " - Sony Computer Entertainment\n",
    "\n",
    " - Ubisoft\n",
    "\n",
    " - Take-Two Interactive\n",
    "\n",
    " - THQ\n",
    "\n",
    " - Konami Digital Entertainment\n",
    "\n",
    " - Sega\n",
    "\n",
    " - Namco Bandai Games\n",
    "\n",
    "You need to group the Dataframe by `Publisher`."
   ]
  },
  {
   "cell_type": "code",
   "execution_count": null,
   "metadata": {
    "id": "AtfJjrB21BHC"
   },
   "outputs": [],
   "source": [
    "# Publisher-wise total number of units sold across different regions and the world in descending order.\n",
    " # Get the total units sold from last 5 columns.\n",
    "# Sort the values in descending order"
   ]
  },
  {
   "cell_type": "markdown",
   "metadata": {
    "id": "7o1cyK4b4wdw"
   },
   "source": [
    "**Q:** Which video game publisher sells the most number of units globally and how much?\n",
    "\n",
    "**A:**"
   ]
  },
  {
   "cell_type": "markdown",
   "metadata": {
    "id": "B8hjBlf94vz4"
   },
   "source": [
    "---"
   ]
  },
  {
   "cell_type": "markdown",
   "metadata": {
    "id": "qjQdUGpbFGMd"
   },
   "source": [
    "#### 6. Platform-wise Total Units Sold\n",
    "\n",
    "We perform the following task to get an idea of which the gaming platform has the most number of sales.\n",
    "\n",
    "You need to group the Dataframe by `Platform`."
   ]
  },
  {
   "cell_type": "code",
   "execution_count": null,
   "metadata": {
    "id": "1mvaELQIzp_2"
   },
   "outputs": [],
   "source": [
    "# Find out the platform-wise the total number of units sold across different regions and the world in the descending order.\n",
    " # Get the total units sold from last 5 columns.\n",
    "# Sort the values in descending order"
   ]
  },
  {
   "cell_type": "markdown",
   "metadata": {
    "id": "Z4WTKKVB5Efj"
   },
   "source": [
    "**Q:** For which platform of a video game, the most number of units are sold globally and how much?\n",
    "\n",
    "**A:**"
   ]
  },
  {
   "cell_type": "markdown",
   "metadata": {
    "id": "TOjvpX3rxRxZ"
   },
   "source": [
    "---"
   ]
  },
  {
   "cell_type": "markdown",
   "metadata": {
    "id": "jdMY9puZuKL8"
   },
   "source": [
    "---"
   ]
  }
 ],
 "metadata": {
  "colab": {
   "provenance": []
  },
  "kernelspec": {
   "display_name": "Python 3 (ipykernel)",
   "language": "python",
   "name": "python3"
  },
  "language_info": {
   "codemirror_mode": {
    "name": "ipython",
    "version": 3
   },
   "file_extension": ".py",
   "mimetype": "text/x-python",
   "name": "python",
   "nbconvert_exporter": "python",
   "pygments_lexer": "ipython3",
   "version": "3.10.9"
  }
 },
 "nbformat": 4,
 "nbformat_minor": 1
}
